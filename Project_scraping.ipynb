{
 "cells": [
  {
   "cell_type": "code",
   "execution_count": 1,
   "id": "39677fa7",
   "metadata": {},
   "outputs": [],
   "source": [
    "import requests\n",
    "import random\n",
    "import pandas as pd\n",
    "import urllib\n",
    "import bs4 as bs"
   ]
  },
  {
   "cell_type": "code",
   "execution_count": 2,
   "id": "802419de",
   "metadata": {},
   "outputs": [],
   "source": [
    "headers_list = [\n",
    "    # Firefox 77 Mac\n",
    "    {\n",
    "    \"User-Agent\": \"Mozilla/5.0 (Macintosh; Intel Mac OS X 10.15; rv:77.0) Gecko/20100101 Firefox/77.0\",\n",
    "    \"Accept\": \"text/html,application/xhtml+xml,application/xml;q=0.9,image/webp,*/*;q=0.8\",\n",
    "    \"Accept-Language\": \"en-US,en;q=0.5\",\n",
    "    \"Referer\": \"https://www.google.com/\",\n",
    "    \"DNT\": \"1\",\n",
    "    \"Connection\": \"keep-alive\",\n",
    "    \"Upgrade-Insecure-Requests\": \"1\"\n",
    "    },\n",
    "    # Chrome 92.0 Win10\n",
    "    {\n",
    "    \"User-Agent\": \"Mozilla/5.0 (Windows NT 10.0; Win64; x64) AppleWebKit/537.36 (KHTML, like Gecko) Chrome/92.0.4515.107 Safari/537.36\",\n",
    "    \"Accept\": \"text/html,application/xhtml+xml,application/xml;q=0.9,image/webp,*/*;q=0.8\",\n",
    "    \"Accept-Language\": \"en-US,en;q=0.5\",\n",
    "    \"Accept-Encoding\": \"gzip, deflate, br\",\n",
    "    \"Referer\": \"https://www.google.com/\",\n",
    "    \"DNT\": \"1\",\n",
    "    \"Connection\": \"keep-alive\",\n",
    "    \"Upgrade-Insecure-Requests\": \"1\"\n",
    "    },\n",
    "    # Chrome 91.0 Win10\n",
    "    {\n",
    "    \"Connection\": \"keep-alive\",\n",
    "    \"DNT\": \"1\",\n",
    "    \"Upgrade-Insecure-Requests\": \"1\",\n",
    "    \"User-Agent\": \"Mozilla/5.0 (Windows NT 10.0; Win64; x64) AppleWebKit/537.36 (KHTML, like Gecko) Chrome/91.0.4472.124 Safari/537.36\",\n",
    "    \"Accept\": \"text/html,application/xhtml+xml,application/xml;q=0.9,image/webp,image/apng,*/*;q=0.8,application/signed-exchange;v=b3;q=0.9\",\n",
    "    \"Sec-Fetch-Site\": \"none\",\n",
    "    \"Sec-Fetch-Mode\": \"navigate\",\n",
    "    \"Sec-Fetch-Dest\": \"document\",\n",
    "    \"Referer\": \"https://www.google.com/\",\n",
    "    \"Accept-Encoding\": \"gzip, deflate, br\",\n",
    "    \"Accept-Language\": \"en-GB,en-US;q=0.9,en;q=0.8\"\n",
    "    },\n",
    "    # Firefox 90.0 Win10\n",
    "    {\n",
    "    \"Connection\": \"keep-alive\",\n",
    "    \"Upgrade-Insecure-Requests\": \"1\",\n",
    "    \"User-Agent\": \"Mozilla/5.0 (Windows NT 10.0; Win64; x64; rv:90.0) Gecko/20100101 Firefox/90.0\",\n",
    "    \"Accept\": \"text/html,application/xhtml+xml,application/xml;q=0.9,image/webp,image/apng,*/*;q=0.8,application/signed-exchange;v=b3;q=0.9\",\n",
    "    \"Sec-Fetch-Site\": \"same-origin\",\n",
    "    \"Sec-Fetch-Mode\": \"navigate\",\n",
    "    \"Sec-Fetch-User\": \"?1\",\n",
    "    \"Sec-Fetch-Dest\": \"document\",\n",
    "    \"Referer\": \"https://www.google.com/\",\n",
    "    \"Accept-Encoding\": \"gzip, deflate, br\",\n",
    "    \"Accept-Language\": \"en-US,en;q=0.9\"\n",
    "    }\n",
    "]"
   ]
  },
  {
   "cell_type": "markdown",
   "id": "e083bc65",
   "metadata": {},
   "source": [
    "## Job advertisements"
   ]
  },
  {
   "cell_type": "code",
   "execution_count": 3,
   "id": "2bcb0769",
   "metadata": {},
   "outputs": [],
   "source": [
    "cities=['seattle','chicago','newyork','newjersey','boston','austin']"
   ]
  },
  {
   "cell_type": "code",
   "execution_count": 5,
   "id": "dc39dd2e",
   "metadata": {},
   "outputs": [],
   "source": [
    "joblists=[]\n",
    "#urls=['https://tippecanoe.craigslist.org/d/jobs/search/jjj','https://tippecanoe.craigslist.org/d/jobs/search/jjj?s=120','https://tippecanoe.craigslist.org/d/jobs/search/jjj?s=240','https://tippecanoe.craigslist.org/d/jobs/search/jjj?s=360']\n",
    "for city in cities:\n",
    "    for n in range(25):\n",
    "        url='https://'+city+'.craigslist.org/d/jobs/search/jjj?s='+str(n*120)\n",
    "        headers = random.choice(headers_list)\n",
    "        r = requests.Session()\n",
    "        r.headers = headers\n",
    "        #time.sleep(np.random.uniform(5,15))\n",
    "        html = r.get(url).text\n",
    "        soup=bs.BeautifulSoup(html, 'html.parser')\n",
    "        tablef=soup.find_all('h3',class_=\"result-heading\")\n",
    "        for i in range(len(tablef)):\n",
    "            joblists.append(tablef[i].a['href'])"
   ]
  },
  {
   "cell_type": "code",
   "execution_count": 4,
   "id": "9c76507f",
   "metadata": {},
   "outputs": [],
   "source": [
    "job_postings=[]\n",
    "for listing in joblists:\n",
    "    headers = random.choice(headers_list)\n",
    "    r = requests.Session()\n",
    "    r.headers = headers\n",
    "    html = r.get(listing).text\n",
    "    soup=bs.BeautifulSoup(html, 'html.parser')\n",
    "    text1=soup.get_text()\n",
    "    start=text1.find('print')\n",
    "    end=text1.find('posted:')\n",
    "    job_postings.append(text1[start+5:end+20])"
   ]
  },
  {
   "cell_type": "markdown",
   "id": "7839e11e",
   "metadata": {},
   "source": [
    "# Resumes"
   ]
  },
  {
   "cell_type": "code",
   "execution_count": 34,
   "id": "6ac49f71",
   "metadata": {},
   "outputs": [],
   "source": [
    "cities=['seattle','chicago']"
   ]
  },
  {
   "cell_type": "code",
   "execution_count": 35,
   "id": "4a3a7f74",
   "metadata": {},
   "outputs": [],
   "source": [
    "resumelists=[]\n",
    "#urls=['https://tippecanoe.craigslist.org/d/resumes/search/rrr']\n",
    "for city in cities:\n",
    "    for n in range(10):\n",
    "        url='https://'+city+'.craigslist.org/d/resumes/search/rrr?s='+str(n*120)\n",
    "        headers = random.choice(headers_list)\n",
    "        r = requests.Session()\n",
    "        r.headers = headers\n",
    "        #time.sleep(np.random.uniform(5,15))\n",
    "        html = r.get(url).text\n",
    "        soup=bs.BeautifulSoup(html, 'html.parser')\n",
    "        page=soup.find('span',class_=\"button pagenum\")\n",
    "        pnum=page.get_text()\n",
    "        if pnum!=\"no results\":\n",
    "            tablef=soup.find_all('h3',class_=\"result-heading\")\n",
    "            for i in range(len(tablef)):\n",
    "                resumelists.append(tablef[i].a['href'])"
   ]
  },
  {
   "cell_type": "code",
   "execution_count": 26,
   "id": "5dcb4a2b",
   "metadata": {},
   "outputs": [],
   "source": [
    "resume_postings=[]\n",
    "for listing in resumelists:\n",
    "    headers = random.choice(headers_list)\n",
    "    r = requests.Session()\n",
    "    r.headers = headers\n",
    "    html = r.get(listing).text\n",
    "    soup=bs.BeautifulSoup(html, 'html.parser')\n",
    "    text1=soup.find('section',id=\"postingbody\")    \n",
    "    resume_postings.append(text1.get_text())"
   ]
  },
  {
   "cell_type": "code",
   "execution_count": 1,
   "id": "79bcf422",
   "metadata": {},
   "outputs": [],
   "source": [
    "import pandas as pd\n",
    "\n",
    "\n",
    "\n",
    "\n",
    "job_postings = pd.read_excel(\"job_postings.xlsx\")\n",
    "job_postings.columns = [\"Id\",\"Description\"]\n",
    "job_postings = job_postings[job_postings[\"Description\"] != \"kedYour request\"]\n",
    "str1 = '\\n'\n",
    "\n",
    "\n",
    "\n",
    "job_postings[\"Description\"] = job_postings[\"Description\"].str.replace(str1,\"\")"
   ]
  },
  {
   "cell_type": "code",
   "execution_count": null,
   "id": "e6718296",
   "metadata": {},
   "outputs": [],
   "source": [
    "resume_postings = pd.read_excel( \"resume_postings.xlsx\")\n",
    "resume_postings.columns = [\"Id\",\"Description\"]\n",
    "str1 = '\\n\\nQR Code Link to This Post\\n\\n\\n'\n",
    "str2 = '\\n'\n",
    "str3 = '\\t'\n",
    "\n",
    "\n",
    "\n",
    "resume_postings[\"Description\"] = resume_postings[\"Description\"].str.replace(str1,\"\")\n",
    "resume_postings[\"Description\"] = resume_postings[\"Description\"].str.replace(str2,\"\")\n",
    "resume_postings[\"Description\"] = resume_postings[\"Description\"].str.replace(str3,\"\")"
   ]
  }
 ],
 "metadata": {
  "kernelspec": {
   "display_name": "Python 3",
   "language": "python",
   "name": "python3"
  },
  "language_info": {
   "codemirror_mode": {
    "name": "ipython",
    "version": 3
   },
   "file_extension": ".py",
   "mimetype": "text/x-python",
   "name": "python",
   "nbconvert_exporter": "python",
   "pygments_lexer": "ipython3",
   "version": "3.8.8"
  }
 },
 "nbformat": 4,
 "nbformat_minor": 5
}
